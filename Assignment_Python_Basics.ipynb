{
 "cells": [
  {
   "cell_type": "markdown",
   "id": "1e1e98af",
   "metadata": {
    "tags": [
     "Assignment"
    ]
   },
   "source": [
    "**Python Basics Assignment**"
   ]
  },
  {
   "cell_type": "markdown",
   "id": "1e330ac4",
   "metadata": {},
   "source": [
    "**Python Basics Questions**"
   ]
  },
  {
   "cell_type": "markdown",
   "id": "516e6c0f",
   "metadata": {},
   "source": [
    "1. What is Python, and why is it popupar?\n",
    "\n",
    "Ans : Python is a high-level, interpreted programming language known for its simple and readable syntax. It is a set of rules and symbols that define the process of writing computer programs. It is popular because it is easy to learn, and has a large standard library, around more than 1,37,000 libraries, framework features, supports multiple programming paradigms, and has a huge community with many third-party packages for various applications like data analysis, web development, data science, automation, and more. "
   ]
  },
  {
   "cell_type": "markdown",
   "id": "0c956001",
   "metadata": {},
   "source": [
    "2. What is an interpreter in Python?\n",
    "\n",
    "Ans :  An interpreter in Python is a program that reads and executes python code line by line. It translates the high level Python code into machine code at runtime, allowing the program to run directly without the need for prior compilation.This makes Python easy to taste and debug.  "
   ]
  },
  {
   "cell_type": "markdown",
   "id": "5a9f732f",
   "metadata": {},
   "source": [
    "3. What are pre-defined keywords in Python?\n",
    "\n",
    "Ans : Pre-defined keywords in Python are reserved words that have special meaning and purposes in language. They are used to define the syntax and structure of Python programs and cannot be used as variable names, function names, or identifiers. Examples include `if`, `else`, `for`, `while`, `deaf`, `class`, `import`, `True` and `False`."
   ]
  },
  {
   "cell_type": "markdown",
   "id": "ba414edd",
   "metadata": {},
   "source": [
    "4. Can keywords be used as variable names?\n",
    "\n",
    "Ans : No, keywords cannot be used as variable names in Python. Keywords are reserved words that have special meaning in the language and are used to define the syntax and structure of Python programs. Using them as variable names will result in a syntax error. I.e. class is a keyword used to define classes. Using class as a variable name would cause a syntax error. "
   ]
  },
  {
   "cell_type": "markdown",
   "id": "8304b1e6",
   "metadata": {},
   "source": [
    "5. What is mutability in Python?\n",
    "\n",
    "Ans : Mutability in Python refers to whether the value of an object can be changed after it is created.\n",
    "Mutable Objects : These objects can be modified after creation. Changes to a mutable object directly affect the original object. Examples of mutable objects in Python include: lists, dictionaries, and sets."
   ]
  },
  {
   "cell_type": "markdown",
   "id": "296a7ef0",
   "metadata": {},
   "source": [
    "6. Why are lists mutable, but tuples are immutable?\n",
    "\n",
    "Ans : Lists are mutable because their elements can be changed, added, or removed after the list is created. This is by design, allowing lists to be flexible and dynamic. designed to store collections of items that can change over time. Lists are implemented with a dynamic array structure that allows modification.\n",
    "\n",
    "Tuples are immutable because, once created, their elements cannot be changed, added, or removed. This makes tuples fixed and unchangeable, which can help ensure data integrity and allow them to be used as keys in dictionaries. Python can optimize immutable objects (e.g., faster access, memory efficiency).\n",
    "\n",
    "\n"
   ]
  },
  {
   "cell_type": "markdown",
   "id": "81c170c1",
   "metadata": {},
   "source": [
    "7. What is the difference between “==” and “is” operators in Python?\n",
    "\n",
    "Ans : In Python, \"==\" and \"is\" are Both are the comparison operators,  \n",
    "The \"==\" operator checks if the values of two objects are equal, meaning their contents are the same.  \n",
    "The \"is\" operator checks if two objects refer to the same memory location (i.e., they are the exact same object).  \n",
    "*Example:   \n",
    "- a = [1, 2, 3]    \n",
    "- b = [1, 2, 3]    \n",
    "- a == b        # True (values are equal) ,\n",
    "- a is b        # False (different objects in memory)"
   ]
  },
  {
   "cell_type": "markdown",
   "id": "78a469f4",
   "metadata": {},
   "source": [
    "8. What are logical operators in Python?\n",
    "\n",
    "Ans : Logical operators in Python are used to combine conditional statements and control the flow of logic. They return Boolean values (True or False) based on the operands. \n",
    "The main logical operators are:\n",
    "\n",
    "- **and** : Returns True if both conditions are True.\n",
    "- **or** : Returns True if at least one condition is True.\n",
    "- **not** : Returns True if the condition is False.\n"
   ]
  },
  {
   "cell_type": "markdown",
   "id": "6cb3440c",
   "metadata": {},
   "source": [
    "9. What is type casting in Python?\n",
    "\n",
    "Ans : Type casting in Python is the process of converting a value from one data type to another. This can be done using built-in functions like `int()`, `float()`, `str()`, and `list()`. For example, converting a string `\"5\"` to an integer using `int(\"5\")`."
   ]
  },
  {
   "cell_type": "markdown",
   "id": "410e9565",
   "metadata": {},
   "source": [
    "10. What is the difference between implicit and explicit type casting?\n",
    "\n",
    "Ans : Implicit type casting is when Python automatically converts one data type to another without user intervention (e.g., converting an integer to a float during an operation).\n",
    "\n",
    "Explicit type casting is when the programmer manually converts one data type to another using functions like `int()`, `float()`, or `str()`."
   ]
  },
  {
   "cell_type": "markdown",
   "id": "c0bd1bf7",
   "metadata": {},
   "source": [
    "11. What is the purpose of conditional statements in Python?\n",
    "\n",
    "Ans : The purpose of conditional statements in Python is to control the flow of a program by allowing certain blocks of code to be executed only if specific conditions are met. They help make decisions in code using statements like `if`, `elif`, and `else`. This enables programs to perform different actions based on different inputs or situations. 'if' : Executes a block if condition is true, 'elif' : Checks another condition if previous was false, 'else' : Execute if all the condition were false."
   ]
  },
  {
   "cell_type": "markdown",
   "id": "2e7c2318",
   "metadata": {},
   "source": [
    "12.  How does the elif statement work?\n",
    "\n",
    "Ans : The `elif` statement in Python is used to check multiple conditions after an initial `if` statement. If the `if` condition is False, Python checks each `elif` condition in order. The first `elif` that is True will have its block executed, and the rest are skipped. If none are True, the `else` block (if present) runs.\n",
    "\n",
    "*Example:\n",
    "```python\n",
    "z = 11\n",
    "if z > 17:\n",
    "    print(\"Greater than 17\")\n",
    "elif z > 7:\n",
    "    print(\"Greater than 7\")\n",
    "else:\n",
    "    print(\"7 or less\")\n",
    "# Output: Greater than 7\n",
    "```"
   ]
  },
  {
   "cell_type": "markdown",
   "id": "33cf2312",
   "metadata": {},
   "source": [
    "13. What is the difference between for and while loops?\n",
    "\n",
    "Ans : The `for` loop in Python is used to iterate over a sequence (like a list, tuple, or string) for a fixed number of times. It is best when you know in advance how many times you want to execute a block of code.\n",
    "\n",
    "The `while` loop is used to repeat a block of code as long as a condition is True. It is best when you do not know beforehand how many times the loop should run.\n",
    "\n",
    "*Example:\n",
    "```python\n",
    "# for loop\n",
    "for i in range(5):\n",
    "    print(i)  # Prints 0 to 4\n",
    "\n",
    "# while loop\n",
    "count = 0\n",
    "while count < 5:\n",
    "    print(count)  # Prints 0 to 4\n",
    "    count = count + 1\n",
    "```"
   ]
  },
  {
   "cell_type": "markdown",
   "id": "1375af6b",
   "metadata": {},
   "source": [
    "14. Describe a scenario where a while loop is more suitable than a for loop?\n",
    "\n",
    "Ans : A while loop is more suitable when you do not know in advance how many times you need to repeat a block of code, and the loop should continue until a certain condition is met.\n",
    "\n",
    "* Example scenario : 1, \n",
    "Reading user input until they enter a specific value:\n",
    "```python\n",
    "\n",
    "user_input = \"\"\n",
    "while user_input != \"exit\":\n",
    "    user_input = input(\"Type 'exit' to stop: \")\n",
    "```\n",
    "Here, we don’t know how many times the user will enter the input, so a while loop is appropriate, the loop will exits when user type \"exit\".\n",
    "\n",
    "* Example scenario : 2, \n",
    "Login system where the user has to enter the correct password:\n",
    "```python\n",
    "\n",
    "correct_password = \"admin1234\"\n",
    "user_input = \"\"\n",
    "while user_input != correct_password:\n",
    "    user_input = input(\"Enter your password: \")\n",
    "    if user_input != correct_password:\n",
    "        print(\"You have entered an incorrect password: \")\n",
    "else:\n",
    "    print(\"Access granted!\")\n",
    "```\n",
    "Here, we don't know how many times the user will enter the wrong password, so a while loop is appropriate, the loop will exits when user type correct password: \"admin1234\"."
   ]
  },
  {
   "cell_type": "markdown",
   "id": "9f8b45c7",
   "metadata": {},
   "source": []
  },
  {
   "cell_type": "markdown",
   "id": "f98684cd",
   "metadata": {},
   "source": [
    "**Python Basics Practical Questions**"
   ]
  },
  {
   "cell_type": "markdown",
   "id": "7efe3a50",
   "metadata": {},
   "source": [
    "1. Write a Python program to print \"Hello, World!\""
   ]
  },
  {
   "cell_type": "code",
   "execution_count": 70,
   "id": "b576d560",
   "metadata": {},
   "outputs": [
    {
     "name": "stdout",
     "output_type": "stream",
     "text": [
      "Hello, World!\n"
     ]
    }
   ],
   "source": [
    "print(\"Hello, World!\")"
   ]
  },
  {
   "cell_type": "markdown",
   "id": "609c6ef0",
   "metadata": {},
   "source": [
    "2. Write a Python program that displays your name and age."
   ]
  },
  {
   "cell_type": "code",
   "execution_count": 71,
   "id": "b39d1bd2",
   "metadata": {},
   "outputs": [
    {
     "name": "stdout",
     "output_type": "stream",
     "text": [
      "Your name is: dhir\n",
      "your age is: 23\n"
     ]
    }
   ],
   "source": [
    "name = input(\"Enter your name: \")\n",
    "print(f\"Your name is: {name}\")\n",
    "age = input(\"Enter your age: \")\n",
    "print(f\"your age is: {age}\")"
   ]
  },
  {
   "cell_type": "markdown",
   "id": "e13e8fc5",
   "metadata": {},
   "source": [
    "3. Write code to print all the pre-defined keywords in Python using the keyword library."
   ]
  },
  {
   "cell_type": "code",
   "execution_count": 72,
   "id": "88a1c187",
   "metadata": {},
   "outputs": [
    {
     "name": "stdout",
     "output_type": "stream",
     "text": [
      "['False', 'None', 'True', 'and', 'as', 'assert', 'async', 'await', 'break', 'class', 'continue', 'def', 'del', 'elif', 'else', 'except', 'finally', 'for', 'from', 'global', 'if', 'import', 'in', 'is', 'lambda', 'nonlocal', 'not', 'or', 'pass', 'raise', 'return', 'try', 'while', 'with', 'yield']\n"
     ]
    }
   ],
   "source": [
    "# Print all pre-defined keywords in Python using the keyword library\n",
    "import keyword\n",
    "\n",
    "print(keyword.kwlist)"
   ]
  },
  {
   "cell_type": "markdown",
   "id": "3470db73",
   "metadata": {},
   "source": [
    "4. Write a program that checks if a given word is a Python keyword."
   ]
  },
  {
   "cell_type": "code",
   "execution_count": 73,
   "id": "eb8b966f",
   "metadata": {},
   "outputs": [
    {
     "name": "stdout",
     "output_type": "stream",
     "text": [
      "This is a Python keyword: for\n"
     ]
    }
   ],
   "source": [
    "import keyword\n",
    "\n",
    "word = input(\"Enter your word: \")\n",
    "if keyword.iskeyword(word):\n",
    "    print(f\"This is a Python keyword: {word}\")\n",
    "else:\n",
    "    print(f\"This is not a python keyword: {word}\")"
   ]
  },
  {
   "cell_type": "markdown",
   "id": "3de48248",
   "metadata": {},
   "source": [
    "5. Create a list and tuple in Python, and demonstrate how attempting to change an element works differently\n",
    "for each."
   ]
  },
  {
   "cell_type": "code",
   "execution_count": 74,
   "id": "f6877086",
   "metadata": {},
   "outputs": [
    {
     "name": "stdout",
     "output_type": "stream",
     "text": [
      "[1, 2, 3]\n",
      "[4, 2, 3]\n",
      "(1, 2, 3)\n"
     ]
    },
    {
     "ename": "TypeError",
     "evalue": "'tuple' object does not support item assignment",
     "output_type": "error",
     "traceback": [
      "\u001b[31m---------------------------------------------------------------------------\u001b[39m",
      "\u001b[31mTypeError\u001b[39m                                 Traceback (most recent call last)",
      "\u001b[36mCell\u001b[39m\u001b[36m \u001b[39m\u001b[32mIn[74]\u001b[39m\u001b[32m, line 10\u001b[39m\n\u001b[32m      8\u001b[39m my_tuple = (\u001b[32m1\u001b[39m, \u001b[32m2\u001b[39m, \u001b[32m3\u001b[39m)\n\u001b[32m      9\u001b[39m \u001b[38;5;28mprint\u001b[39m(my_tuple)\n\u001b[32m---> \u001b[39m\u001b[32m10\u001b[39m \u001b[43mmy_tuple\u001b[49m\u001b[43m[\u001b[49m\u001b[32;43m1\u001b[39;49m\u001b[43m]\u001b[49m = \u001b[32m7\u001b[39m    \u001b[38;5;66;03m# 'tuple' object does not support item assignment (immutable)\u001b[39;00m\n\u001b[32m     11\u001b[39m \u001b[38;5;28mprint\u001b[39m(my_tuple)\n",
      "\u001b[31mTypeError\u001b[39m: 'tuple' object does not support item assignment"
     ]
    }
   ],
   "source": [
    "# Create a list\n",
    "my_list = [1, 2, 3]\n",
    "print(my_list)  \n",
    "my_list[0] = 4     # Changing an element in the list (mutable)\n",
    "print(my_list)\n",
    "\n",
    "# create a tuple\n",
    "my_tuple = (1, 2, 3)\n",
    "print(my_tuple)\n",
    "my_tuple[1] = 7    # 'tuple' object does not support item assignment (immutable)\n",
    "print(my_tuple)\n"
   ]
  },
  {
   "cell_type": "markdown",
   "id": "e3a74f5f",
   "metadata": {},
   "source": [
    "6. Write a function to demonstrate the behavior of mutable and immutable arguments."
   ]
  },
  {
   "cell_type": "code",
   "execution_count": null,
   "id": "b9219509",
   "metadata": {},
   "outputs": [],
   "source": []
  },
  {
   "cell_type": "markdown",
   "id": "40191ba5",
   "metadata": {},
   "source": [
    "7. Write a program that performs basic arithmetic operations on two user-input numbers."
   ]
  },
  {
   "cell_type": "code",
   "execution_count": 79,
   "id": "cf1fa62c",
   "metadata": {},
   "outputs": [
    {
     "name": "stdout",
     "output_type": "stream",
     "text": [
      "Enter first number: 7.0\n",
      "Enter second number: 3.0\n",
      "Addition:  10.0\n",
      "Subtraction:  4.0\n",
      "Multiplication:  21.0\n",
      "Division: 2.3333333333333335\n"
     ]
    }
   ],
   "source": [
    "num1 = float(input(\"Enter first number: \"))\n",
    "print(f\"Enter first number: {num1}\")\n",
    "num2 = float(input(\"Enter second number: \"))\n",
    "print(f\"Enter second number: {num2}\")\n",
    "\n",
    "print(\"Addition: \", num1 + num2)\n",
    "print(\"Subtraction: \", num1 - num2)\n",
    "print(\"Multiplication: \", num1 * num2)\n",
    "if num2 != 0:\n",
    "    print(\"Division:\", num1 / num2)\n",
    "else:\n",
    "    print(\"Division: Cannot divide by zero\")"
   ]
  },
  {
   "cell_type": "markdown",
   "id": "2dcbd0a2",
   "metadata": {},
   "source": [
    "8. Write a program to demonstrate the use of logical operators."
   ]
  },
  {
   "cell_type": "code",
   "execution_count": 80,
   "id": "bb89b52b",
   "metadata": {},
   "outputs": [
    {
     "name": "stdout",
     "output_type": "stream",
     "text": [
      "number a is: 1.0\n",
      "number b is: 1.0\n",
      "number c is: 1.0\n",
      "a > b and c > a: False\n",
      "a < b or c > a: False\n",
      "not(a > b): True\n"
     ]
    }
   ],
   "source": [
    "a = float(input(\"Enter number a: \"))\n",
    "print(f\"number a is: {a}\")\n",
    "b = float(input(\"Enter number b: \"))\n",
    "print(f\"number b is: {b}\")\n",
    "c = float(input(\"Enter number c: \"))\n",
    "print(f\"number c is: {c}\")\n",
    "\n",
    "# and operator\n",
    "print(\"a > b and c > a:\", a > b and c > a)  # True and True => True\n",
    "\n",
    "# or operator\n",
    "print(\"a < b or c > a:\", a < b or c > a)    # False or True => True\n",
    "\n",
    "# not operator\n",
    "print(\"not(a > b):\", not(a > b))            # not True => False"
   ]
  },
  {
   "cell_type": "markdown",
   "id": "0e586f97",
   "metadata": {},
   "source": [
    "9. Write a Python program to convert user input from string to integer, float, and boolean types."
   ]
  },
  {
   "cell_type": "code",
   "execution_count": 81,
   "id": "5ffe8dc3",
   "metadata": {},
   "outputs": [
    {
     "name": "stdout",
     "output_type": "stream",
     "text": [
      "Entered value is: 3 <class 'str'>\n",
      "value to int conversion: 3 <class 'int'>\n",
      "value to float conversion: 3.0 <class 'float'>\n",
      "value to boolean conversion: True <class 'bool'>\n"
     ]
    }
   ],
   "source": [
    "user_input = input(\"Enter your value: \")\n",
    "print(f\"Entered value is: {user_input}\", type(user_input))\n",
    "for val in user_input:\n",
    "    val = int(val)\n",
    "    print(f\"value to int conversion: {val}\", type(val))\n",
    "    val = float(val)\n",
    "    print(f\"value to float conversion: {val}\", type(val))\n",
    "    val = bool(val)\n",
    "    print(f\"value to boolean conversion: {val}\", type(val))\n",
    "   "
   ]
  },
  {
   "cell_type": "markdown",
   "id": "f33f627d",
   "metadata": {},
   "source": [
    "10. Write code to demonstrate type casting with list elements."
   ]
  },
  {
   "cell_type": "code",
   "execution_count": 82,
   "id": "cb88c725",
   "metadata": {},
   "outputs": [
    {
     "name": "stdout",
     "output_type": "stream",
     "text": [
      "--> converting int to string\n",
      "1 <class 'int'>\n"
     ]
    },
    {
     "ename": "TypeError",
     "evalue": "'str' object is not callable",
     "output_type": "error",
     "traceback": [
      "\u001b[31m---------------------------------------------------------------------------\u001b[39m",
      "\u001b[31mTypeError\u001b[39m                                 Traceback (most recent call last)",
      "\u001b[36mCell\u001b[39m\u001b[36m \u001b[39m\u001b[32mIn[82]\u001b[39m\u001b[32m, line 7\u001b[39m\n\u001b[32m      5\u001b[39m \u001b[38;5;28mprint\u001b[39m(\u001b[33m\"\u001b[39m\u001b[33m--> converting int to string\u001b[39m\u001b[33m\"\u001b[39m)\n\u001b[32m      6\u001b[39m \u001b[38;5;28mprint\u001b[39m(z[\u001b[32m0\u001b[39m], \u001b[38;5;28mtype\u001b[39m(z[\u001b[32m0\u001b[39m]))\n\u001b[32m----> \u001b[39m\u001b[32m7\u001b[39m z0 = \u001b[38;5;28;43mstr\u001b[39;49m\u001b[43m(\u001b[49m\u001b[43mz\u001b[49m\u001b[43m[\u001b[49m\u001b[32;43m0\u001b[39;49m\u001b[43m]\u001b[49m\u001b[43m)\u001b[49m\n\u001b[32m      8\u001b[39m \u001b[38;5;28mprint\u001b[39m(z0,\u001b[38;5;28mtype\u001b[39m(z0))\n\u001b[32m      9\u001b[39m \u001b[38;5;28mprint\u001b[39m(\u001b[33mf\u001b[39m\u001b[33m\"\u001b[39m\u001b[33mint to str conversion: \u001b[39m\u001b[38;5;132;01m{\u001b[39;00mz[\u001b[32m0\u001b[39m]\u001b[38;5;132;01m}\u001b[39;00m\u001b[33m, \u001b[39m\u001b[38;5;132;01m{\u001b[39;00m\u001b[38;5;28mtype\u001b[39m(z[\u001b[32m0\u001b[39m])\u001b[38;5;132;01m}\u001b[39;00m\u001b[33m, to \u001b[39m\u001b[38;5;132;01m{\u001b[39;00mz0\u001b[38;5;132;01m}\u001b[39;00m\u001b[33m, \u001b[39m\u001b[38;5;132;01m{\u001b[39;00m\u001b[38;5;28mtype\u001b[39m(z0)\u001b[38;5;132;01m}\u001b[39;00m\u001b[33m\"\u001b[39m)\n",
      "\u001b[31mTypeError\u001b[39m: 'str' object is not callable"
     ]
    }
   ],
   "source": [
    "# demonstrate type casting with list elements.\n",
    "\n",
    "z = [1, 0, 3.0, \"cherry\", True, \"golf\"]\n",
    "\n",
    "print(\"--> converting int to string\")\n",
    "print(z[0], type(z[0]))\n",
    "z0 = str(z[0])\n",
    "print(z0,type(z0))\n",
    "print(f\"int to str conversion: {z[0]}, {type(z[0])}, to {z0}, {type(z0)}\")\n",
    "\n",
    "print()\n",
    "print(\"--> converting int to boolean\")\n",
    "print(z[1], type(z[1]))\n",
    "z1 = bool(z[1])\n",
    "print(z1,type(z1))\n",
    "print(f\"int to boolean conversion: {z[1]} is {type(z[1])} to {z1} is {type(z1)}\")\n",
    "\n",
    "print()\n",
    "print(\"--> converting float to string\")\n",
    "print(z[2], type(z[2]))\n",
    "z2 = str(z[2])\n",
    "print(z2,type(z2))\n",
    "print(f\"float to str conversion: {z[2]} is {type(z[2])} to {z2} is {type(z2)}\")\n",
    "\n",
    "print()\n",
    "print(\"--> converting float to int\")\n",
    "print(z[2], type(z[2]))\n",
    "z2 = int(z[2])\n",
    "print(z2,type(z2))\n",
    "print(f\"float to int conversion: {z[2]} is {type(z[2])} to {z2} is {type(z2)}\")\n",
    "\n",
    "print()\n",
    "print(\"--> converting boolean to float\")\n",
    "print(z[4], type(z[4]))\n",
    "z4 = float(z[4])\n",
    "print(z4,type(z4))\n",
    "print(f\"boolean to float conversion: {z[4]} is {type(z[4])} to {z4} is {type(z4)}\")\n"
   ]
  },
  {
   "cell_type": "markdown",
   "id": "54d997b6",
   "metadata": {},
   "source": [
    "11. Write a program that checks if a number is positive, negative, or zero."
   ]
  },
  {
   "cell_type": "code",
   "execution_count": 83,
   "id": "bc82b483",
   "metadata": {},
   "outputs": [
    {
     "name": "stdout",
     "output_type": "stream",
     "text": [
      "Enter your number: -1.0\n",
      "negative number\n"
     ]
    }
   ],
   "source": [
    "number = float(input(\"Enter your number: \"))\n",
    "print(f\"Enter your number: {number}\")\n",
    "\n",
    "if number > 0:\n",
    "    print(\"positive Number\")\n",
    "elif number < 0:\n",
    "    print(\"negative number\")\n",
    "else:\n",
    "    print(\"you have entered a zero\")\n",
    "      "
   ]
  },
  {
   "cell_type": "markdown",
   "id": "0c318431",
   "metadata": {},
   "source": [
    "12. Write a for loop to print numbers from 1 to 10."
   ]
  },
  {
   "cell_type": "code",
   "execution_count": 84,
   "id": "426f8e45",
   "metadata": {},
   "outputs": [
    {
     "name": "stdout",
     "output_type": "stream",
     "text": [
      "1 2 3 4 5 6 7 8 9 10 "
     ]
    }
   ],
   "source": [
    "for i in range(10):\n",
    "    print(i + 1, end = \" \")"
   ]
  },
  {
   "cell_type": "markdown",
   "id": "c2596d09",
   "metadata": {},
   "source": [
    "13. Write a Python program to find the sum of all even numbers between 1 and 50."
   ]
  },
  {
   "cell_type": "code",
   "execution_count": 85,
   "id": "e407d2e5",
   "metadata": {},
   "outputs": [
    {
     "name": "stdout",
     "output_type": "stream",
     "text": [
      "sum of all even numbers between 1 to 50 : 650\n"
     ]
    }
   ],
   "source": [
    "sum = 0\n",
    "for i in range(2, 51, 2):\n",
    "    sum = sum + i\n",
    "print(\"sum of all even numbers between 1 to 50 :\",sum)"
   ]
  },
  {
   "cell_type": "markdown",
   "id": "ae8fc31a",
   "metadata": {},
   "source": [
    "14. Write a program to reverse a string using a while loop."
   ]
  },
  {
   "cell_type": "code",
   "execution_count": 86,
   "id": "174c9adf",
   "metadata": {},
   "outputs": [
    {
     "name": "stdout",
     "output_type": "stream",
     "text": [
      "enter your string: pwskills\n",
      "sllikswp"
     ]
    }
   ],
   "source": [
    "str = (input(\"Enter your string: \"))\n",
    "print(f\"enter your string: {str}\")\n",
    "\n",
    "i = len(str) \n",
    "while i > 0:\n",
    "   print(str[i - 1], end = \"\")\n",
    "   i = i - 1\n",
    "      "
   ]
  },
  {
   "cell_type": "markdown",
   "id": "c638416f",
   "metadata": {},
   "source": [
    "15. Write a Python program to calculate the factorial of a number provided by the user using a while loop."
   ]
  },
  {
   "cell_type": "code",
   "execution_count": 87,
   "id": "4e62e28a",
   "metadata": {},
   "outputs": [
    {
     "name": "stdout",
     "output_type": "stream",
     "text": [
      "enter your number: 4\n",
      "24\n"
     ]
    }
   ],
   "source": [
    "num =  int(input(\"Enter your number: \"))\n",
    "print(f\"enter your number: {num}\")\n",
    "fact = 1\n",
    "while num > 0:\n",
    "        fact = fact * num\n",
    "        num = num - 1\n",
    "print(fact)\n",
    "\n",
    "        "
   ]
  },
  {
   "cell_type": "markdown",
   "id": "6c256438",
   "metadata": {},
   "source": []
  },
  {
   "cell_type": "markdown",
   "id": "259f0667",
   "metadata": {},
   "source": []
  }
 ],
 "metadata": {
  "kernelspec": {
   "display_name": "Python 3",
   "language": "python",
   "name": "python3"
  },
  "language_info": {
   "codemirror_mode": {
    "name": "ipython",
    "version": 3
   },
   "file_extension": ".py",
   "mimetype": "text/x-python",
   "name": "python",
   "nbconvert_exporter": "python",
   "pygments_lexer": "ipython3",
   "version": "3.13.3"
  }
 },
 "nbformat": 4,
 "nbformat_minor": 5
}
